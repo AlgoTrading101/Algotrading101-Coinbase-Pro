{
 "cells": [
  {
   "cell_type": "code",
   "execution_count": 7,
   "id": "e83d0b8a",
   "metadata": {},
   "outputs": [],
   "source": [
    "import cbpro\n",
    "import base64\n",
    "import json\n",
    "\n",
    "key = '69a16aae0123152e1bedbbd634d0b2ae'\n",
    "secret = 'YY41AQB3oieYkgARKucSPjwf3Ilo3cRUQ8u/4Qq9pOOxA9BtFLK1+IyIva9qZsYazDEtRsYCq3o9u5Mg7uUcow=='\n",
    "passphrase = 'nprp6bq7kpe'\n",
    "\n",
    "encoded = json.dumps(secret).encode()\n",
    "b64secret = base64.b64encode(encoded)\n",
    "\n",
    "c = cbpro.AuthenticatedClient(key=key, b64secret=secret, passphrase=passphrase)"
   ]
  },
  {
   "cell_type": "code",
   "execution_count": 6,
   "id": "53ed9e7d",
   "metadata": {},
   "outputs": [
    {
     "data": {
      "text/plain": [
       "b'IllZNDFBUUIzb2llWWtnQVJLdWNTUGp3ZjNJbG8zY1JVUTh1LzRRcTlwT094QTlCdEZMSzErSXlJdmE5cVpzWWF6REV0UnNZQ3Ezbzl1NU1nN3VVY293PT0i'"
      ]
     },
     "execution_count": 6,
     "metadata": {},
     "output_type": "execute_result"
    }
   ],
   "source": [
    "import base64\n",
    "import json\n",
    "\n",
    "secret = 'YY41AQB3oieYkgARKucSPjwf3Ilo3cRUQ8u/4Qq9pOOxA9BtFLK1+IyIva9qZsYazDEtRsYCq3o9u5Mg7uUcow=='\n",
    "\n",
    "encoded = json.dumps(secret).encode()\n",
    "b64secret = base64.b64encode(encoded)\n",
    "b64secret"
   ]
  }
 ],
 "metadata": {
  "kernelspec": {
   "display_name": "Python 3",
   "language": "python",
   "name": "python3"
  },
  "language_info": {
   "codemirror_mode": {
    "name": "ipython",
    "version": 3
   },
   "file_extension": ".py",
   "mimetype": "text/x-python",
   "name": "python",
   "nbconvert_exporter": "python",
   "pygments_lexer": "ipython3",
   "version": "3.8.3"
  }
 },
 "nbformat": 4,
 "nbformat_minor": 5
}
