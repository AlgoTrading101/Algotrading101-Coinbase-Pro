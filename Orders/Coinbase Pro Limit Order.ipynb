{
 "cells": [
  {
   "cell_type": "code",
   "execution_count": 1,
   "id": "fd88d641",
   "metadata": {},
   "outputs": [],
   "source": [
    "import cbpro\n",
    "import base64\n",
    "import json\n",
    "\n",
    "key = '69a16aae0123152e1bedbbd634d0b2ae'\n",
    "secret = 'YY41AQB3oieYkgARKucSPjwf3Ilo3cRUQ8u/4Qq9pOOxA9BtFLK1+IyIva9qZsYazDEtRsYCq3o9u5Mg7uUcow=='\n",
    "passphrase = 'nprp6bq7kpe'\n",
    "\n",
    "encoded = json.dumps(secret).encode()\n",
    "b64secret = base64.b64encode(encoded)\n",
    "\n",
    "c = cbpro.AuthenticatedClient(key=key, b64secret=secret, passphrase=passphrase)"
   ]
  },
  {
   "cell_type": "code",
   "execution_count": 2,
   "id": "a1102254",
   "metadata": {},
   "outputs": [
    {
     "data": {
      "text/plain": [
       "{'id': '41077fd7-5d0a-4bf8-b0a7-6e45755f7fc2',\n",
       " 'price': '2524',\n",
       " 'size': '0.007',\n",
       " 'product_id': 'ETH-USDT',\n",
       " 'side': 'buy',\n",
       " 'stp': 'dc',\n",
       " 'type': 'limit',\n",
       " 'time_in_force': 'GTC',\n",
       " 'post_only': False,\n",
       " 'created_at': '2021-05-28T19:07:39.296475Z',\n",
       " 'fill_fees': '0',\n",
       " 'filled_size': '0',\n",
       " 'executed_value': '0',\n",
       " 'status': 'pending',\n",
       " 'settled': False}"
      ]
     },
     "execution_count": 2,
     "metadata": {},
     "output_type": "execute_result"
    }
   ],
   "source": [
    "order = c.place_limit_order(product_id='ETH-USDT', \n",
    "                                    side='buy', \n",
    "                                    price=2524, \n",
    "                                    size='0.007')\n",
    "order"
   ]
  }
 ],
 "metadata": {
  "kernelspec": {
   "display_name": "Python 3",
   "language": "python",
   "name": "python3"
  },
  "language_info": {
   "codemirror_mode": {
    "name": "ipython",
    "version": 3
   },
   "file_extension": ".py",
   "mimetype": "text/x-python",
   "name": "python",
   "nbconvert_exporter": "python",
   "pygments_lexer": "ipython3",
   "version": "3.8.3"
  }
 },
 "nbformat": 4,
 "nbformat_minor": 5
}
