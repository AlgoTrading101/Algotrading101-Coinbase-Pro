{
 "cells": [
  {
   "cell_type": "code",
   "execution_count": null,
   "id": "fd88d641",
   "metadata": {},
   "outputs": [],
   "source": [
    "import cbpro\n",
    "import base64\n",
    "import json\n",
    "\n",
    "key = '69a16aae0123152e1bedbbd634d0b2ae'\n",
    "secret = 'YY41AQB3oieYkgARKucSPjwf3Ilo3cRUQ8u/4Qq9pOOxA9BtFLK1+IyIva9qZsYazDEtRsYCq3o9u5Mg7uUcow=='\n",
    "passphrase = 'nprp6bq7kpe'\n",
    "\n",
    "encoded = json.dumps(secret).encode()\n",
    "b64secret = base64.b64encode(encoded)\n",
    "\n",
    "c = cbpro.AuthenticatedClient(key=key, b64secret=secret, passphrase=passphrase)"
   ]
  },
  {
   "cell_type": "code",
   "execution_count": null,
   "id": "a1102254",
   "metadata": {},
   "outputs": [],
   "source": [
    "try:\n",
    "    order = c.place_limit_order(product_id='ETH-USDT', \n",
    "                                        side='sell', \n",
    "                                        price=2550, \n",
    "                                        size='9999999')\n",
    "except Exception as e:\n",
    "    print('Error')\n",
    "    \n",
    "order"
   ]
  }
 ],
 "metadata": {
  "kernelspec": {
   "display_name": "Python 3",
   "language": "python",
   "name": "python3"
  },
  "language_info": {
   "codemirror_mode": {
    "name": "ipython",
    "version": 3
   },
   "file_extension": ".py",
   "mimetype": "text/x-python",
   "name": "python",
   "nbconvert_exporter": "python",
   "pygments_lexer": "ipython3",
   "version": "3.8.3"
  }
 },
 "nbformat": 4,
 "nbformat_minor": 5
}
