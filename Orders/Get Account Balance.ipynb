{
 "cells": [
  {
   "cell_type": "code",
   "execution_count": null,
   "id": "99fa30a3",
   "metadata": {},
   "outputs": [],
   "source": [
    "import cbpro, json, base64\n",
    "\n",
    "key = '480e2ff4b3e5cf8765ecc9463387fe88'\n",
    "secret = 'z+VfvqKjE7nLZ4neSDZ7kEF3nAPY39pKHk5xEB+hMLRt00JiOgXv66Lz1nLPF/X3PHZoQIOhYFdbFqzYNRfilA=='\n",
    "passphrase = 'kl5c8ifm7tk'\n",
    "\n",
    "auth_client = cbpro.AuthenticatedClient(key, secret, passphrase)"
   ]
  },
  {
   "cell_type": "code",
   "execution_count": null,
   "id": "e41e27d3",
   "metadata": {},
   "outputs": [],
   "source": [
    "auth_client.get_accounts()"
   ]
  }
 ],
 "metadata": {
  "kernelspec": {
   "display_name": "Python 3",
   "language": "python",
   "name": "python3"
  },
  "language_info": {
   "codemirror_mode": {
    "name": "ipython",
    "version": 3
   },
   "file_extension": ".py",
   "mimetype": "text/x-python",
   "name": "python",
   "nbconvert_exporter": "python",
   "pygments_lexer": "ipython3",
   "version": "3.8.3"
  }
 },
 "nbformat": 4,
 "nbformat_minor": 5
}
