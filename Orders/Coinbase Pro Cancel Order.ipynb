{
 "cells": [
  {
   "cell_type": "code",
   "execution_count": 1,
   "id": "c7e8d460",
   "metadata": {},
   "outputs": [],
   "source": [
    "import cbpro\n",
    "import base64\n",
    "import json\n",
    "\n",
    "key = '69a16aae0123152e1bedbbd634d0b2ae'\n",
    "secret = 'YY41AQB3oieYkgARKucSPjwf3Ilo3cRUQ8u/4Qq9pOOxA9BtFLK1+IyIva9qZsYazDEtRsYCq3o9u5Mg7uUcow=='\n",
    "passphrase = 'nprp6bq7kpe'\n",
    "\n",
    "encoded = json.dumps(secret).encode()\n",
    "b64secret = base64.b64encode(encoded)\n",
    "\n",
    "c = cbpro.AuthenticatedClient(key=key, b64secret=secret, passphrase=passphrase)"
   ]
  },
  {
   "cell_type": "code",
   "execution_count": 2,
   "id": "b2aa8912",
   "metadata": {},
   "outputs": [
    {
     "data": {
      "text/plain": [
       "'057c1188-240d-469d-83e7-bfc92e5e9e7d'"
      ]
     },
     "execution_count": 2,
     "metadata": {},
     "output_type": "execute_result"
    }
   ],
   "source": [
    "cancel = c.cancel_order('057c1188-240d-469d-83e7-bfc92e5e9e7d')\n",
    "cancel"
   ]
  }
 ],
 "metadata": {
  "kernelspec": {
   "display_name": "Python 3",
   "language": "python",
   "name": "python3"
  },
  "language_info": {
   "codemirror_mode": {
    "name": "ipython",
    "version": 3
   },
   "file_extension": ".py",
   "mimetype": "text/x-python",
   "name": "python",
   "nbconvert_exporter": "python",
   "pygments_lexer": "ipython3",
   "version": "3.8.3"
  }
 },
 "nbformat": 4,
 "nbformat_minor": 5
}
