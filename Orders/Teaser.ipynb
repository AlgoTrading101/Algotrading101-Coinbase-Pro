{
 "cells": [
  {
   "cell_type": "code",
   "execution_count": 1,
   "id": "767bb5cd",
   "metadata": {},
   "outputs": [
    {
     "name": "stdout",
     "output_type": "stream",
     "text": [
      "Order placed successfully\n",
      "{'id': '256ae3a4-ccec-4002-882b-abce15b8053d', 'price': '2259.38000000', 'size': '0.00700000', 'product_id': 'ETH-USDT', 'profile_id': '3c44356c-3bf0-461b-824f-201e6953fdfd', 'side': 'buy', 'type': 'limit', 'time_in_force': 'GTC', 'post_only': False, 'created_at': '2021-05-29T18:54:14.020186Z', 'done_at': '2021-05-29T18:54:14.026Z', 'done_reason': 'filled', 'fill_fees': '0.0790737500000000', 'filled_size': '0.00700000', 'executed_value': '15.8147500000000000', 'status': 'done', 'settled': True}\n"
     ]
    }
   ],
   "source": [
    "import cbpro\n",
    "import base64\n",
    "import json\n",
    "from time import sleep\n",
    "\n",
    "key = '69a16aae0123152e1bedbbd634d0b2ae'\n",
    "secret = 'YY41AQB3oieYkgARKucSPjwf3Ilo3cRUQ8u/4Qq9pOOxA9BtFLK1+IyIva9qZsYazDEtRsYCq3o9u5Mg7uUcow=='\n",
    "passphrase = 'nprp6bq7kpe'\n",
    "\n",
    "encoded = json.dumps(secret).encode()\n",
    "b64secret = base64.b64encode(encoded)\n",
    "auth_client = cbpro.AuthenticatedClient(key=key, b64secret=secret, passphrase=passphrase)\n",
    "c = cbpro.PublicClient()\n",
    "\n",
    "while True:\n",
    "    \n",
    "    ticker_old = c.get_product_ticker(product_id='BTC-USD')\n",
    "\n",
    "    sleep(5)\n",
    "\n",
    "    ticker_new = c.get_product_ticker(product_id='BTC-USD')\n",
    "\n",
    "    percent = ((float(ticker_new['price']) - float(ticker_old['price']))*100)/float(ticker_old['price'])\n",
    "    \n",
    "    if percent >= 0.0001:\n",
    "\n",
    "        limit = c.get_product_ticker(product_id='ETH-USDT')\n",
    "        \n",
    "        order=auth_client.place_limit_order(product_id='ETH-USDT', \n",
    "                              side='buy', \n",
    "                              price=float(limit['price'])+2, \n",
    "                              size='0.007')\n",
    "        \n",
    "        sleep(2)\n",
    "        \n",
    "        check = order['id']\n",
    "        check_order = auth_client.get_order(order_id=check)\n",
    "        \n",
    "        if check_order['status'] == 'done':\n",
    "            print('Order placed successfully')\n",
    "            print(check_order)\n",
    "            break\n",
    "        else:\n",
    "            print('Order was not matched')\n",
    "            break\n",
    "    else:\n",
    "        print(f'The requirement is not reached. The percent change is at {percent}')"
   ]
  }
 ],
 "metadata": {
  "kernelspec": {
   "display_name": "Python 3",
   "language": "python",
   "name": "python3"
  },
  "language_info": {
   "codemirror_mode": {
    "name": "ipython",
    "version": 3
   },
   "file_extension": ".py",
   "mimetype": "text/x-python",
   "name": "python",
   "nbconvert_exporter": "python",
   "pygments_lexer": "ipython3",
   "version": "3.8.3"
  }
 },
 "nbformat": 4,
 "nbformat_minor": 5
}
