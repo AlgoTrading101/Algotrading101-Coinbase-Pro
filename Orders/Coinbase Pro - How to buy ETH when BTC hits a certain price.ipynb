{
 "cells": [
  {
   "cell_type": "code",
   "execution_count": null,
   "id": "85bd9d88",
   "metadata": {
    "scrolled": true
   },
   "outputs": [],
   "source": [
    "import cbpro\n",
    "\n",
    "class myWebsocketClient(cbpro.WebsocketClient):\n",
    "    def on_open(self):\n",
    "        self.url = \"wss://ws-feed.pro.coinbase.com/\"\n",
    "        self.products = [\"ETH-USDT\"]\n",
    "        self.channels=[\"ticker\"]\n",
    "    def on_message(self, msg):\n",
    "        if 'price' in msg and 'type' in msg:\n",
    "            print (\"Message type:\", msg[\"type\"],\n",
    "                   \"\\t@ {:.3f}\".format(float(msg[\"price\"])))\n",
    "            \n",
    "    def on_close(self):\n",
    "        print(\"Closing\")\n",
    "\n",
    "wsClient = myWebsocketClient()\n",
    "wsClient.start()\n",
    "print(wsClient.url, wsClient.products, wsClient.channels)\n",
    "wsClient.close()"
   ]
  },
  {
   "cell_type": "code",
   "execution_count": 1,
   "id": "5e0acae0",
   "metadata": {},
   "outputs": [
    {
     "name": "stdout",
     "output_type": "stream",
     "text": [
      "-- Subscribed! --\n",
      "\n",
      "{'type': 'subscriptions', 'channels': [{'name': 'ticker', 'product_ids': ['BTC-USD']}]}\n",
      "{'type': 'ticker', 'sequence': 25711205829, 'product_id': 'BTC-USD', 'price': '34361.18', 'open_24h': '36801.99', 'volume_24h': '32248.42535390', 'low_24h': '33847.4', 'high_24h': '37325', 'volume_30d': '892443.08026648', 'best_bid': '34350.00', 'best_ask': '34361.18', 'side': 'buy', 'time': '2021-05-29T15:31:18.423449Z', 'trade_id': 180932702, 'last_size': '0.00569227'}\n",
      "{'type': 'ticker', 'sequence': 25711205916, 'product_id': 'BTC-USD', 'price': '34357.15', 'open_24h': '36801.99', 'volume_24h': '32248.47535390', 'low_24h': '33847.4', 'high_24h': '37325', 'volume_30d': '892443.13026648', 'best_bid': '34350.00', 'best_ask': '34358.99', 'side': 'sell', 'time': '2021-05-29T15:31:18.584271Z', 'trade_id': 180932703, 'last_size': '0.05'}\n",
      "{'type': 'ticker', 'sequence': 25711206008, 'product_id': 'BTC-USD', 'price': '34350', 'open_24h': '36801.99', 'volume_24h': '32248.47545390', 'low_24h': '33847.4', 'high_24h': '37325', 'volume_30d': '892443.13036648', 'best_bid': '34349.72', 'best_ask': '34353.50', 'side': 'sell', 'time': '2021-05-29T15:31:18.728823Z', 'trade_id': 180932704, 'last_size': '0.0001'}\n",
      "{'type': 'ticker', 'sequence': 25711206010, 'product_id': 'BTC-USD', 'price': '34349.72', 'open_24h': '36801.99', 'volume_24h': '32248.62082693', 'low_24h': '33847.4', 'high_24h': '37325', 'volume_30d': '892443.27573951', 'best_bid': '34348.86', 'best_ask': '34353.50', 'side': 'sell', 'time': '2021-05-29T15:31:18.728823Z', 'trade_id': 180932705, 'last_size': '0.14537303'}\n",
      "{'type': 'ticker', 'sequence': 25711206079, 'product_id': 'BTC-USD', 'price': '34348.86', 'open_24h': '36801.99', 'volume_24h': '32248.63601504', 'low_24h': '33847.4', 'high_24h': '37325', 'volume_30d': '892443.29092762', 'best_bid': '34345.38', 'best_ask': '34349.73', 'side': 'sell', 'time': '2021-05-29T15:31:18.802206Z', 'trade_id': 180932706, 'last_size': '0.01518811'}\n",
      "{'type': 'ticker', 'sequence': 25711206131, 'product_id': 'BTC-USD', 'price': '34345.38', 'open_24h': '36801.99', 'volume_24h': '32248.69675288', 'low_24h': '33847.4', 'high_24h': '37325', 'volume_30d': '892443.35166546', 'best_bid': '34339.33', 'best_ask': '34348.87', 'side': 'sell', 'time': '2021-05-29T15:31:18.879845Z', 'trade_id': 180932707, 'last_size': '0.06073784'}\n",
      "{'type': 'ticker', 'sequence': 25711206210, 'product_id': 'BTC-USD', 'price': '34333.1', 'open_24h': '36801.99', 'volume_24h': '32248.69733625', 'low_24h': '33847.4', 'high_24h': '37325', 'volume_30d': '892443.35224883', 'best_bid': '34333.10', 'best_ask': '34348.86', 'side': 'sell', 'time': '2021-05-29T15:31:18.995680Z', 'trade_id': 180932708, 'last_size': '0.00058337'}\n",
      "{'type': 'ticker', 'sequence': 25711206605, 'product_id': 'BTC-USD', 'price': '34339.3', 'open_24h': '36801.99', 'volume_24h': '32248.69872471', 'low_24h': '33847.4', 'high_24h': '37325', 'volume_30d': '892443.35363729', 'best_bid': '34339.29', 'best_ask': '34339.30', 'side': 'buy', 'time': '2021-05-29T15:31:19.616474Z', 'trade_id': 180932709, 'last_size': '0.00138846'}\n",
      "{'type': 'ticker', 'sequence': 25711206613, 'product_id': 'BTC-USD', 'price': '34339.3', 'open_24h': '36801.99', 'volume_24h': '32248.72002471', 'low_24h': '33847.4', 'high_24h': '37325', 'volume_30d': '892443.37493729', 'best_bid': '34339.29', 'best_ask': '34339.30', 'side': 'buy', 'time': '2021-05-29T15:31:19.623543Z', 'trade_id': 180932710, 'last_size': '0.0213'}\n",
      "{'type': 'ticker', 'sequence': 25711206620, 'product_id': 'BTC-USD', 'price': '34339.3', 'open_24h': '36801.99', 'volume_24h': '32248.72070416', 'low_24h': '33847.4', 'high_24h': '37325', 'volume_30d': '892443.37561674', 'best_bid': '34339.29', 'best_ask': '34339.30', 'side': 'buy', 'time': '2021-05-29T15:31:19.634501Z', 'trade_id': 180932711, 'last_size': '0.00067945'}\n",
      "{'type': 'ticker', 'sequence': 25711206710, 'product_id': 'BTC-USD', 'price': '34342.31', 'open_24h': '36801.99', 'volume_24h': '32248.72220416', 'low_24h': '33847.4', 'high_24h': '37325', 'volume_30d': '892443.37711674', 'best_bid': '34339.29', 'best_ask': '34342.31', 'side': 'buy', 'time': '2021-05-29T15:31:19.773646Z', 'trade_id': 180932712, 'last_size': '0.0015'}\n",
      "{'type': 'ticker', 'sequence': 25711206719, 'product_id': 'BTC-USD', 'price': '34339.29', 'open_24h': '36801.99', 'volume_24h': '32248.77047352', 'low_24h': '33847.4', 'high_24h': '37325', 'volume_30d': '892443.42538610', 'best_bid': '34339.29', 'best_ask': '34342.31', 'side': 'sell', 'time': '2021-05-29T15:31:19.778295Z', 'trade_id': 180932713, 'last_size': '0.04826936'}\n",
      "{'type': 'ticker', 'sequence': 25711206721, 'product_id': 'BTC-USD', 'price': '34339.29', 'open_24h': '36801.99', 'volume_24h': '32248.79083352', 'low_24h': '33847.4', 'high_24h': '37325', 'volume_30d': '892443.44574610', 'best_bid': '34335.47', 'best_ask': '34342.31', 'side': 'sell', 'time': '2021-05-29T15:31:19.778295Z', 'trade_id': 180932714, 'last_size': '0.02036'}\n",
      "{'type': 'ticker', 'sequence': 25711206723, 'product_id': 'BTC-USD', 'price': '34335.47', 'open_24h': '36801.99', 'volume_24h': '32248.89048672', 'low_24h': '33847.4', 'high_24h': '37325', 'volume_30d': '892443.54539930', 'best_bid': '34334.29', 'best_ask': '34342.31', 'side': 'sell', 'time': '2021-05-29T15:31:19.778295Z', 'trade_id': 180932715, 'last_size': '0.0996532'}\n",
      "{'type': 'ticker', 'sequence': 25711206725, 'product_id': 'BTC-USD', 'price': '34334.29', 'open_24h': '36801.99', 'volume_24h': '32248.89585386', 'low_24h': '33847.4', 'high_24h': '37325', 'volume_30d': '892443.55076644', 'best_bid': '34334.29', 'best_ask': '34342.31', 'side': 'sell', 'time': '2021-05-29T15:31:19.778295Z', 'trade_id': 180932716, 'last_size': '0.00536714'}\n",
      "{'type': 'ticker', 'sequence': 25711206834, 'product_id': 'BTC-USD', 'price': '34342.3', 'open_24h': '36801.99', 'volume_24h': '32248.89600684', 'low_24h': '33847.4', 'high_24h': '37325', 'volume_30d': '892443.55091942', 'best_bid': '34340.79', 'best_ask': '34342.30', 'side': 'buy', 'time': '2021-05-29T15:31:19.926404Z', 'trade_id': 180932717, 'last_size': '0.00015298'}\n",
      "{'type': 'ticker', 'sequence': 25711206863, 'product_id': 'BTC-USD', 'price': '34343.28', 'open_24h': '36801.99', 'volume_24h': '32248.89637404', 'low_24h': '33847.4', 'high_24h': '37325', 'volume_30d': '892443.55128662', 'best_bid': '34342.29', 'best_ask': '34343.28', 'side': 'buy', 'time': '2021-05-29T15:31:19.959009Z', 'trade_id': 180932718, 'last_size': '0.0003672'}\n",
      "{'type': 'ticker', 'sequence': 25711207024, 'product_id': 'BTC-USD', 'price': '34348.64', 'open_24h': '36801.99', 'volume_24h': '32249.08637404', 'low_24h': '33847.4', 'high_24h': '37325', 'volume_30d': '892443.74128662', 'best_bid': '34342.55', 'best_ask': '34349.37', 'side': 'buy', 'time': '2021-05-29T15:31:20.212218Z', 'trade_id': 180932719, 'last_size': '0.19'}\n",
      "{'type': 'ticker', 'sequence': 25711207095, 'product_id': 'BTC-USD', 'price': '34348.03', 'open_24h': '36801.99', 'volume_24h': '32249.08674124', 'low_24h': '33847.4', 'high_24h': '37325', 'volume_30d': '892443.74165382', 'best_bid': '34346.50', 'best_ask': '34348.03', 'side': 'buy', 'time': '2021-05-29T15:31:20.316309Z', 'trade_id': 180932720, 'last_size': '0.0003672'}\n",
      "{'type': 'ticker', 'sequence': 25711207106, 'product_id': 'BTC-USD', 'price': '34348.03', 'open_24h': '36801.99', 'volume_24h': '32249.09729381', 'low_24h': '33847.4', 'high_24h': '37325', 'volume_30d': '892443.75220639', 'best_bid': '34346.50', 'best_ask': '34348.90', 'side': 'buy', 'time': '2021-05-29T15:31:20.330349Z', 'trade_id': 180932721, 'last_size': '0.01055257'}\n",
      "{'type': 'ticker', 'sequence': 25711207108, 'product_id': 'BTC-USD', 'price': '34348.9', 'open_24h': '36801.99', 'volume_24h': '32249.10097941', 'low_24h': '33847.4', 'high_24h': '37325', 'volume_30d': '892443.75589199', 'best_bid': '34346.50', 'best_ask': '34348.90', 'side': 'buy', 'time': '2021-05-29T15:31:20.330349Z', 'trade_id': 180932722, 'last_size': '0.0036856'}\n",
      "{'type': 'ticker', 'sequence': 25711207148, 'product_id': 'BTC-USD', 'price': '34349.37', 'open_24h': '36801.99', 'volume_24h': '32249.10272758', 'low_24h': '33847.4', 'high_24h': '37325', 'volume_30d': '892443.75764016', 'best_bid': '34348.02', 'best_ask': '34353.28', 'side': 'buy', 'time': '2021-05-29T15:31:20.410063Z', 'trade_id': 180932723, 'last_size': '0.00174817'}\n",
      "{'type': 'ticker', 'sequence': 25711207255, 'product_id': 'BTC-USD', 'price': '34349.78', 'open_24h': '36801.99', 'volume_24h': '32249.10641318', 'low_24h': '33847.4', 'high_24h': '37325', 'volume_30d': '892443.76132576', 'best_bid': '34349.74', 'best_ask': '34353.28', 'side': 'sell', 'time': '2021-05-29T15:31:20.473120Z', 'trade_id': 180932724, 'last_size': '0.0036856'}\n",
      "{'type': 'ticker', 'sequence': 25711207257, 'product_id': 'BTC-USD', 'price': '34349.74', 'open_24h': '36801.99', 'volume_24h': '32249.15141318', 'low_24h': '33847.4', 'high_24h': '37325', 'volume_30d': '892443.80632576', 'best_bid': '34349.36', 'best_ask': '34353.28', 'side': 'sell', 'time': '2021-05-29T15:31:20.473120Z', 'trade_id': 180932725, 'last_size': '0.045'}\n",
      "{'type': 'ticker', 'sequence': 25711207259, 'product_id': 'BTC-USD', 'price': '34349.36', 'open_24h': '36801.99', 'volume_24h': '32249.18001318', 'low_24h': '33847.4', 'high_24h': '37325', 'volume_30d': '892443.83492576', 'best_bid': '34349.36', 'best_ask': '34353.28', 'side': 'sell', 'time': '2021-05-29T15:31:20.473120Z', 'trade_id': 180932726, 'last_size': '0.0286'}\n",
      "{'type': 'ticker', 'sequence': 25711207261, 'product_id': 'BTC-USD', 'price': '34349.36', 'open_24h': '36801.99', 'volume_24h': '32249.19258379', 'low_24h': '33847.4', 'high_24h': '37325', 'volume_30d': '892443.84749637', 'best_bid': '34349.36', 'best_ask': '34353.28', 'side': 'sell', 'time': '2021-05-29T15:31:20.473120Z', 'trade_id': 180932727, 'last_size': '0.01257061'}\n",
      "{'type': 'ticker', 'sequence': 25711207264, 'product_id': 'BTC-USD', 'price': '34353.28', 'open_24h': '36801.99', 'volume_24h': '32249.29258379', 'low_24h': '33847.4', 'high_24h': '37325', 'volume_30d': '892443.94749637', 'best_bid': '34349.36', 'best_ask': '34356.45', 'side': 'buy', 'time': '2021-05-29T15:31:20.473321Z', 'trade_id': 180932728, 'last_size': '0.1'}\n",
      "{'type': 'ticker', 'sequence': 25711207345, 'product_id': 'BTC-USD', 'price': '34356.45', 'open_24h': '36801.99', 'volume_24h': '32249.34258379', 'low_24h': '33847.4', 'high_24h': '37325', 'volume_30d': '892443.99749637', 'best_bid': '34353.27', 'best_ask': '34366.17', 'side': 'buy', 'time': '2021-05-29T15:31:20.577455Z', 'trade_id': 180932729, 'last_size': '0.05'}\n"
     ]
    }
   ],
   "source": [
    "import cbpro\n",
    "\n",
    "wsClient = cbpro.WebsocketClient(url=\"wss://ws-feed.pro.coinbase.com\",\n",
    "                                products=\"BTC-USD\",\n",
    "                                channels=[\"ticker\"])\n",
    "wsClient.start()"
   ]
  },
  {
   "cell_type": "code",
   "execution_count": 2,
   "id": "62bb93b8",
   "metadata": {},
   "outputs": [
    {
     "name": "stdout",
     "output_type": "stream",
     "text": [
      "{'type': 'ticker', 'sequence': 25711211676, 'product_id': 'BTC-USD', 'price': '34395.16', 'open_24h': '36801.99', 'volume_24h': '32256.44877014', 'low_24h': '33847.4', 'high_24h': '37325', 'volume_30d': '892451.10368272', 'best_bid': '34394.65', 'best_ask': '34395.16', 'side': 'buy', 'time': '2021-05-29T15:31:26.767897Z', 'trade_id': 180932787, 'last_size': '0.0012'}\n",
      "{'type': 'ticker', 'sequence': 25711211706, 'product_id': 'BTC-USD', 'price': '34394.65', 'open_24h': '36801.99', 'volume_24h': '32256.47377014', 'low_24h': '33847.4', 'high_24h': '37325', 'volume_30d': '892451.12868272', 'best_bid': '34387.96', 'best_ask': '34395.16', 'side': 'sell', 'time': '2021-05-29T15:31:26.822157Z', 'trade_id': 180932788, 'last_size': '0.025'}\n",
      "\n",
      "-- Socket Closed --\n"
     ]
    }
   ],
   "source": [
    "wsClient.close()"
   ]
  },
  {
   "cell_type": "code",
   "execution_count": null,
   "id": "5e70d026",
   "metadata": {},
   "outputs": [],
   "source": []
  }
 ],
 "metadata": {
  "kernelspec": {
   "display_name": "Python 3",
   "language": "python",
   "name": "python3"
  },
  "language_info": {
   "codemirror_mode": {
    "name": "ipython",
    "version": 3
   },
   "file_extension": ".py",
   "mimetype": "text/x-python",
   "name": "python",
   "nbconvert_exporter": "python",
   "pygments_lexer": "ipython3",
   "version": "3.8.3"
  }
 },
 "nbformat": 4,
 "nbformat_minor": 5
}
