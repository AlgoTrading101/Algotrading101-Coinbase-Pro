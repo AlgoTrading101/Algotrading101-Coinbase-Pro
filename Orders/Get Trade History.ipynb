{
 "cells": [
  {
   "cell_type": "code",
   "execution_count": 2,
   "id": "7f3d818f",
   "metadata": {},
   "outputs": [],
   "source": [
    "import cbpro\n",
    "\n",
    "key = '480e2ff4b3e5cf8765ecc9463387fe88'\n",
    "secret = 'z+VfvqKjE7nLZ4neSDZ7kEF3nAPY39pKHk5xEB+hMLRt00JiOgXv66Lz1nLPF/X3PHZoQIOhYFdbFqzYNRfilA=='\n",
    "passphrase = 'kl5c8ifm7tk'\n",
    "\n",
    "auth_client = cbpro.AuthenticatedClient(key, secret, passphrase)"
   ]
  },
  {
   "cell_type": "code",
   "execution_count": 3,
   "id": "31e2da0a",
   "metadata": {},
   "outputs": [],
   "source": [
    "a = auth_client.get_account_history('1a645979-fa3c-4a45-b9e8-3b83f952ac81')"
   ]
  },
  {
   "cell_type": "code",
   "execution_count": 4,
   "id": "db7a4de8",
   "metadata": {},
   "outputs": [
    {
     "name": "stdout",
     "output_type": "stream",
     "text": [
      "{'id': '7753969547', 'amount': '-0.0100000000000000', 'balance': '0.0280000000000000', 'created_at': '2021-05-30T19:55:46.508497Z', 'type': 'match', 'details': {'order_id': '2f1d9550-f629-403f-b982-af208671ed99', 'product_id': 'ETH-USDT', 'trade_id': '865491'}}\n",
      "{'id': '7723391933', 'amount': '0.0070000000000000', 'balance': '0.0380000000000000', 'created_at': '2021-05-29T18:54:14.032576Z', 'type': 'match', 'details': {'order_id': '256ae3a4-ccec-4002-882b-abce15b8053d', 'product_id': 'ETH-USDT', 'trade_id': '834981'}}\n",
      "{'id': '7723081739', 'amount': '0.0070000000000000', 'balance': '0.0310000000000000', 'created_at': '2021-05-29T18:43:02.085473Z', 'type': 'match', 'details': {'order_id': '84e8956d-c3c1-4c49-a292-5f70dc9279ab', 'product_id': 'ETH-USDT', 'trade_id': '834791'}}\n",
      "{'id': '7722417565', 'amount': '-0.0070000000000000', 'balance': '0.0240000000000000', 'created_at': '2021-05-29T18:22:26.21791Z', 'type': 'match', 'details': {'order_id': '86192f04-883d-4d9a-ac13-28214b12019b', 'product_id': 'ETH-USDT', 'trade_id': '834292'}}\n",
      "{'id': '7721606609', 'amount': '0.0070000000000000', 'balance': '0.0310000000000000', 'created_at': '2021-05-29T18:01:27.952189Z', 'type': 'match', 'details': {'order_id': '5b7d93b8-e53b-4bfb-94b5-c9257e84750a', 'product_id': 'ETH-USDT', 'trade_id': '833467'}}\n",
      "{'id': '7718775121', 'amount': '-0.0100000000000000', 'balance': '0.0240000000000000', 'created_at': '2021-05-29T16:28:21.572314Z', 'type': 'match', 'details': {'order_id': '1e1f6c07-04f7-4e07-82c1-21a4dde1e5e7', 'product_id': 'ETH-USDT', 'trade_id': '829870'}}\n",
      "{'id': '7718495304', 'amount': '0.0070000000000000', 'balance': '0.0340000000000000', 'created_at': '2021-05-29T16:17:35.669811Z', 'type': 'match', 'details': {'order_id': '1272cf04-895e-4c30-a636-9a5ac1a814bd', 'product_id': 'ETH-USDT', 'trade_id': '829511'}}\n",
      "{'id': '7718184241', 'amount': '-0.0070000000000000', 'balance': '0.0270000000000000', 'created_at': '2021-05-29T16:07:08.405219Z', 'type': 'match', 'details': {'order_id': '19a92dc8-80cb-4292-adbe-cb2b68fef3f5', 'product_id': 'ETH-USDT', 'trade_id': '829020'}}\n",
      "{'id': '7718042631', 'amount': '0.0070000000000000', 'balance': '0.0340000000000000', 'created_at': '2021-05-29T16:03:57.973614Z', 'type': 'match', 'details': {'order_id': '4cb26240-cabf-45fa-a7b6-9a0e97605fcf', 'product_id': 'ETH-USDT', 'trade_id': '828797'}}\n",
      "{'id': '7624644080', 'amount': '0.0070000000000000', 'balance': '0.0270000000000000', 'created_at': '2021-05-26T21:39:44.508729Z', 'type': 'match', 'details': {'order_id': '18a89aad-645f-4c6a-bd6f-0ac6bb034117', 'product_id': 'ETH-USDT', 'trade_id': '732763'}}\n",
      "{'id': '7624128599', 'amount': '-0.0200000000000000', 'balance': '0.0200000000000000', 'created_at': '2021-05-26T21:17:48.419231Z', 'type': 'match', 'details': {'order_id': 'fdb62f2a-cb6c-4532-b3dd-983da4417ca7', 'product_id': 'ETH-USDT', 'trade_id': '732593'}}\n",
      "{'id': '7623572009', 'amount': '0.0400000000000000', 'balance': '0.0400000000000000', 'created_at': '2021-05-26T20:57:27.332309Z', 'type': 'transfer', 'details': {'transfer_id': 'd27abcd7-8f01-48f1-b7a3-2a0b63c772ee', 'transfer_type': 'deposit'}}\n"
     ]
    }
   ],
   "source": [
    "for i in a:\n",
    "    print(i)"
   ]
  },
  {
   "cell_type": "code",
   "execution_count": null,
   "id": "9441c413",
   "metadata": {},
   "outputs": [],
   "source": []
  }
 ],
 "metadata": {
  "kernelspec": {
   "display_name": "Python 3",
   "language": "python",
   "name": "python3"
  },
  "language_info": {
   "codemirror_mode": {
    "name": "ipython",
    "version": 3
   },
   "file_extension": ".py",
   "mimetype": "text/x-python",
   "name": "python",
   "nbconvert_exporter": "python",
   "pygments_lexer": "ipython3",
   "version": "3.8.3"
  }
 },
 "nbformat": 4,
 "nbformat_minor": 5
}
