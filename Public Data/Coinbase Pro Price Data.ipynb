{
 "cells": [
  {
   "cell_type": "code",
   "execution_count": 1,
   "id": "e9affa75",
   "metadata": {},
   "outputs": [],
   "source": [
    "import cbpro\n",
    "c = cbpro.PublicClient()"
   ]
  },
  {
   "cell_type": "code",
   "execution_count": 4,
   "id": "ad4221b1",
   "metadata": {},
   "outputs": [
    {
     "data": {
      "text/plain": [
       "{'trade_id': 124280997,\n",
       " 'price': '2500.92',\n",
       " 'size': '0.2372',\n",
       " 'time': '2021-05-28T18:27:28.28334Z',\n",
       " 'bid': '2500.91',\n",
       " 'ask': '2501.05',\n",
       " 'volume': '536884.01049683'}"
      ]
     },
     "execution_count": 4,
     "metadata": {},
     "output_type": "execute_result"
    }
   ],
   "source": [
    "ticker = c.get_product_ticker(product_id='ETH-USD')\n",
    "ticker"
   ]
  },
  {
   "cell_type": "code",
   "execution_count": 5,
   "id": "048b9a9b",
   "metadata": {},
   "outputs": [
    {
     "data": {
      "text/plain": [
       "{'trade_id': 124283116,\n",
       " 'price': '2505.48',\n",
       " 'size': '0.2157534',\n",
       " 'time': '2021-05-28T18:32:26.045235Z',\n",
       " 'bid': '2504.59',\n",
       " 'ask': '2505.48',\n",
       " 'volume': '538638.77272484'}"
      ]
     },
     "execution_count": 5,
     "metadata": {},
     "output_type": "execute_result"
    }
   ],
   "source": [
    "import requests\n",
    "ticker = requests.get('https://api.pro.coinbase.com/products/ETH-USD/ticker').json()\n",
    "ticker"
   ]
  }
 ],
 "metadata": {
  "kernelspec": {
   "display_name": "Python 3",
   "language": "python",
   "name": "python3"
  },
  "language_info": {
   "codemirror_mode": {
    "name": "ipython",
    "version": 3
   },
   "file_extension": ".py",
   "mimetype": "text/x-python",
   "name": "python",
   "nbconvert_exporter": "python",
   "pygments_lexer": "ipython3",
   "version": "3.8.3"
  }
 },
 "nbformat": 4,
 "nbformat_minor": 5
}
