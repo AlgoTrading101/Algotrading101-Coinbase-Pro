{
 "cells": [
  {
   "cell_type": "code",
   "execution_count": 1,
   "id": "a71efecf",
   "metadata": {},
   "outputs": [],
   "source": [
    "import cbpro\n",
    "import base64\n",
    "import json\n",
    "\n",
    "key = '69a16aae0123152e1bedbbd634d0b2ae'\n",
    "secret = 'YY41AQB3oieYkgARKucSPjwf3Ilo3cRUQ8u/4Qq9pOOxA9BtFLK1+IyIva9qZsYazDEtRsYCq3o9u5Mg7uUcow=='\n",
    "passphrase = 'nprp6bq7kpe'\n",
    "\n",
    "encoded = json.dumps(secret).encode()\n",
    "b64secret = base64.b64encode(encoded)\n",
    "\n",
    "c = cbpro.AuthenticatedClient(key=key, b64secret=secret, passphrase=passphrase)"
   ]
  },
  {
   "cell_type": "code",
   "execution_count": 2,
   "id": "7065f2f9",
   "metadata": {},
   "outputs": [
    {
     "data": {
      "text/plain": [
       "{'id': '2f1d9550-f629-403f-b982-af208671ed99',\n",
       " 'price': '2440.00000000',\n",
       " 'size': '0.01000000',\n",
       " 'product_id': 'ETH-USDT',\n",
       " 'profile_id': '3c44356c-3bf0-461b-824f-201e6953fdfd',\n",
       " 'side': 'sell',\n",
       " 'type': 'limit',\n",
       " 'time_in_force': 'GTC',\n",
       " 'post_only': False,\n",
       " 'created_at': '2021-05-30T19:55:46.497531Z',\n",
       " 'done_at': '2021-05-30T19:55:46.503Z',\n",
       " 'done_reason': 'filled',\n",
       " 'fill_fees': '0.1220335000000000',\n",
       " 'filled_size': '0.01000000',\n",
       " 'executed_value': '24.4067000000000000',\n",
       " 'status': 'done',\n",
       " 'settled': True}"
      ]
     },
     "execution_count": 2,
     "metadata": {},
     "output_type": "execute_result"
    }
   ],
   "source": [
    "order = c.get_order('2f1d9550-f629-403f-b982-af208671ed99')\n",
    "order"
   ]
  }
 ],
 "metadata": {
  "kernelspec": {
   "display_name": "Python 3",
   "language": "python",
   "name": "python3"
  },
  "language_info": {
   "codemirror_mode": {
    "name": "ipython",
    "version": 3
   },
   "file_extension": ".py",
   "mimetype": "text/x-python",
   "name": "python",
   "nbconvert_exporter": "python",
   "pygments_lexer": "ipython3",
   "version": "3.8.3"
  }
 },
 "nbformat": 4,
 "nbformat_minor": 5
}
