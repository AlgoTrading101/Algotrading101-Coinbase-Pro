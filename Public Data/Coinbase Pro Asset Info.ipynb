{
 "cells": [
  {
   "cell_type": "code",
   "execution_count": 3,
   "id": "fcdfc807",
   "metadata": {},
   "outputs": [],
   "source": [
    "import requests"
   ]
  },
  {
   "cell_type": "code",
   "execution_count": 7,
   "id": "a5263c81",
   "metadata": {},
   "outputs": [
    {
     "data": {
      "text/plain": [
       "{'id': 'ADA-USD',\n",
       " 'base_currency': 'ADA',\n",
       " 'quote_currency': 'USD',\n",
       " 'base_min_size': '1',\n",
       " 'base_max_size': '250000',\n",
       " 'quote_increment': '0.0001',\n",
       " 'base_increment': '0.01',\n",
       " 'display_name': 'ADA/USD',\n",
       " 'min_market_funds': '5.0',\n",
       " 'max_market_funds': '100000',\n",
       " 'margin_enabled': False,\n",
       " 'post_only': False,\n",
       " 'limit_only': False,\n",
       " 'cancel_only': False,\n",
       " 'trading_disabled': False,\n",
       " 'status': 'online',\n",
       " 'status_message': ''}"
      ]
     },
     "execution_count": 7,
     "metadata": {},
     "output_type": "execute_result"
    }
   ],
   "source": [
    "asset = requests.get('https://api.pro.coinbase.com/products/ADA-USD').json()\n",
    "asset"
   ]
  },
  {
   "cell_type": "code",
   "execution_count": null,
   "id": "c489bbd3",
   "metadata": {},
   "outputs": [],
   "source": []
  }
 ],
 "metadata": {
  "kernelspec": {
   "display_name": "Python 3",
   "language": "python",
   "name": "python3"
  },
  "language_info": {
   "codemirror_mode": {
    "name": "ipython",
    "version": 3
   },
   "file_extension": ".py",
   "mimetype": "text/x-python",
   "name": "python",
   "nbconvert_exporter": "python",
   "pygments_lexer": "ipython3",
   "version": "3.8.3"
  }
 },
 "nbformat": 4,
 "nbformat_minor": 5
}
