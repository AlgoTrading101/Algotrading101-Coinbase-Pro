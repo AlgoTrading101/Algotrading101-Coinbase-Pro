{
 "cells": [
  {
   "cell_type": "code",
   "execution_count": null,
   "id": "90b73821",
   "metadata": {},
   "outputs": [],
   "source": [
    "import cbpro\n",
    "c = cbpro.PublicClient()"
   ]
  },
  {
   "cell_type": "code",
   "execution_count": null,
   "id": "9eede3f4",
   "metadata": {},
   "outputs": [],
   "source": [
    "trades = c.get_product_trades('ETH-USD')\n",
    "trades"
   ]
  },
  {
   "cell_type": "code",
   "execution_count": null,
   "id": "7e384eba",
   "metadata": {},
   "outputs": [],
   "source": [
    "orders = []\n",
    "\n",
    "for i in trades:\n",
    "    orders.append(i)"
   ]
  },
  {
   "cell_type": "code",
   "execution_count": null,
   "id": "b5dbdbcf",
   "metadata": {},
   "outputs": [],
   "source": [
    "orders"
   ]
  }
 ],
 "metadata": {
  "kernelspec": {
   "display_name": "Python 3",
   "language": "python",
   "name": "python3"
  },
  "language_info": {
   "codemirror_mode": {
    "name": "ipython",
    "version": 3
   },
   "file_extension": ".py",
   "mimetype": "text/x-python",
   "name": "python",
   "nbconvert_exporter": "python",
   "pygments_lexer": "ipython3",
   "version": "3.8.3"
  }
 },
 "nbformat": 4,
 "nbformat_minor": 5
}
